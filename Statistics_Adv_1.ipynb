{
  "nbformat": 4,
  "nbformat_minor": 0,
  "metadata": {
    "colab": {
      "provenance": []
    },
    "kernelspec": {
      "name": "python3",
      "display_name": "Python 3"
    },
    "language_info": {
      "name": "python"
    }
  },
  "cells": [
    {
      "cell_type": "markdown",
      "source": [
        "**Theory Questions**\n",
        "\n",
        "Question 1: What is a random variable in probability theory?\n",
        "-  In probability theory, a random variable is a variable that represents the outcome\n",
        "of a random experiment. Instead of being a fixed value, it can take different values based on\n",
        "chance.\n",
        "For example:\n",
        " If we toss a coin, the random variable X can take the values {0,1}, where 1 = heads\n",
        "and 0 = tails.\n",
        " If we roll a die, the random variable Y can take values {1,2,3,4,5,6}.\n",
        "A random variable makes it easier to apply mathematical formulas to uncertain situations. It\n",
        "transforms random outcomes into numerical values that can be measured, analysed, and\n",
        "used in probability distributions.
        "\n",
        "Question 2: What are the types of random variables?\n",
        "- There are two main types of random variables:\n",
        "1. Discrete Random Variable\n",
        "o Takes a countable number of values.\n",
        "o Example: Number of students in a class, number of heads in 10-coin flips.\n",
        "o Probability is described using probability mass functions (PMF).\n",
        "2. Continuous Random Variable\n",
        "o Takes values from an uncountable, continuous range.\n",
        "o Example: Height, weight, time, temperature.\n",
        "o Probability is described using probability density functions (PDF).\n",
        "Major difference: Discrete variables have gaps between values, while continuous variables\n",
        "can take any value in a range.\n",
        "\n",
        "Q3. Explain the difference between discrete and continuous distributions.\n",
        " Answer:  \n",
        "- Discrete Distributions:  \n",
        "1. Countable values (whole numbers).\n",
        "2. Probability is assigned directly to each value (PMF).\n",
        "3. Example: Binomial, Poisson.\n",
        "4. Represented by Bar Chart.\n",
        "- Continuous Distributions:\n",
        "1. Any value in a range (real numbers).\n",
        "2. Probability is calculated as area under the curve (PDF).\n",
        "3. Example: Normal, Exponential.\n",
        "4. Represented by Smooth curve.\n",
        "\n",
        "Q4. What is a binomial distribution, and how is it used in probability?\n",
        "- A binomial distribution describes the probability of getting a certain number of\n",
        "successes in a fixed number of independent trials, where each trial has only two outcomes:\n",
        "success or failure.\n",
        "Uses:\n",
        "- To model the number of defective items in a batch.\n",
        "-  To predict the number of heads in 10-coin tosses.\n",
        "- To estimate customer purchases (buy or not buy).\n",
        "\n",
        "Q5. What is the standard normal distribution, and why is it important?\n",
        "- Answer: The standard normal distribution is a special case of the normal distribution\n",
        "where:\n",
        "- Mean (µ) = 0\n",
        "- Standard deviation (σ) = 1\n",
        "It is represented by the Z-distribution, where each value is converted into a Z-score:\n",
        "                                                                   Z=(X−μ)/σ\n",
        "- Importance:\n",
        "1. Allows comparison across different datasets.\n",
        "2. Used to calculate probabilities and critical values.\n",
        "3. Forms the basis of statistical tests like hypothesis testing.\n",
        "4. Widely applied in quality control, finance, and machine learning.\n",
        "\n",
        "Q6. What is the Central Limit Theorem (CLT), and why is it critical in statistics?\n",
        "-  The Central Limit Theorem (CLT) states that if we take repeated samples of a\n",
        "sufficiently large size from any population, the distribution of the sample means will\n",
        "approximate a normal distribution, regardless of the population’s actual distribution.\n",
        "Why important:\n",
        "1. Makes statistical inference possible.\n",
        "2. Allows us to estimate population mean and variance using sample data.\n",
        "3. Justifies the use of confidence intervals and hypothesis testing.\n",
        "4. Works even if the population is not normally distributed, provided sample size is large\n",
        "(n > 30 is common rule).\n",
        "- Example: Even if exam marks are skewed, the average marks of large samples of students\n",
        "will look normally distributed.\n",
        "\n",
        "Q7. What is the significance of confidence intervals in statistical analysis?\n",
        "- Answer: A confidence interval (CI) gives a range within which the true population\n",
        "parameter (like mean or proportion) is likely to fall, with a specified confidence level (like\n",
        "95%).\n",
        "For example: If the average test score in a sample is 70 with a 95% CI of [68,72], it means\n",
        "we are 95% confident that the true population mean lies between 68 and 72.\n",
        "Significance:\n",
        "- Gives reliability of estimates.\n",
        "- Shows uncertainty in sample-based results.\n",
        "-  Used for decision-making in business, medicine, and research.\n",
        "-  More informative than just reporting a single sample mean.\n",
        "\n",
        "Q8. What is the concept of expected value in a probability distribution?\n",
        "- Answer: The expected value (EV), also known as the mean or expectation, is a fundamental\n",
        "concept in probability theory. It represents the average outcome of a random variable over\n",
        "many repetitions of an experiment. This value provides a single summary number that\n",
        "reflects the central tendency of a probability distribution.\n",
        "Applications in Real Life and Machine Learning\n",
        "Expected value is widely used in various fields:\n",
        "- Insurance: Companies calculate EV to assess risks and set premiums. For example,\n",
        "life insurance policies use EV to estimate payouts and profits1.\n",
        "- Games of Chance: EV helps players understand the average outcome of lotteries,\n",
        "poker, or other games, guiding better decision-making1.\n",
        "-  Machine Learning: EV is integral in: Loss Functions: Minimizing the expected loss\n",
        "over all data points. Reinforcement Learning: Maximizing the expected cumulative\n",
        "reward. Decision Trees: Evaluating splits based on expected impurity or information\n",
        "gain^2^.\n",
        "\n"
      ],
      "metadata": {
        "id": "bT_6-kuhvVSm"
      }
    },
    {
      "cell_type": "markdown",
      "source": [
        "Q9. Write a Python program to generate 1000 random numbers from a normal distribution with mean = 50 and standard deviation = 5. Compute its mean and standard deviation using NumPy, and draw a histogram to visualize the distribution. (Include your Python code and output in the code box below.)"
      ],
      "metadata": {
        "id": "_WwyrT7OxAjG"
      }
    },
    {
      "cell_type": "code",
      "source": [
        "import numpy as np\n",
        "import matplotlib.pyplot as plt\n",
        "# here generating 1000 random numbers\n",
        "data = np.random.normal(loc=50, scale=5, size=1000)\n",
        "# now finding out mean and std deviation\n",
        "mean = np.mean(data)\n",
        "std_dev = np.std(data)\n",
        "print(\"Mean:\", mean)\n",
        "print(\"Standard Deviation:\", std_dev)\n",
        "# Drawing  histogram\n",
        "plt.hist(data, bins=30, edgecolor='black', alpha=0.7)\n",
        "plt.title(\"Histogram of Normal Distribution (mean=50, std=5)\")\n",
        "plt.xlabel(\"Value\")\n",
        "plt.ylabel(\"Frequency\")\n",
        "plt.show()"
      ],
      "metadata": {
        "colab": {
          "base_uri": "https://localhost:8080/",
          "height": 507
        },
        "id": "uuI6yJXOw9tO",
        "outputId": "b71d480d-ed22-4df0-afed-f744f793345d"
      },
      "execution_count": 1,
      "outputs": [
        {
          "output_type": "stream",
          "name": "stdout",
          "text": [
            "Mean: 49.851330874720524\n",
            "Standard Deviation: 5.049457972209053\n"
          ]
        },
        {
          "output_type": "display_data",
          "data": {
            "text/plain": [
              "<Figure size 640x480 with 1 Axes>"
            ],
            "image/png": "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\n"
          },
          "metadata": {}
        }
      ]
    },
    {
      "cell_type": "markdown",
      "source": [
        "Question 10: You are working as a data analyst for a retail company. The company has collected daily sales data for 2 years and wants you to identify the overall sales trend. daily_sales = [220, 245, 210, 265, 230, 250, 260, 275, 240, 255, 235, 260, 245, 250, 225, 270, 265, 255, 250, 260] ● Explain how you would apply the Central Limit Theorem to estimate the average sales with a 95% confidence interval. ● Write the Python code to compute the mean sales and its confidence interval. (Include your Python code and output in the code box below.)"
      ],
      "metadata": {
        "id": "TzP0ygDxxKQA"
      }
    },
    {
      "cell_type": "code",
      "source": [
        "import numpy as np\n",
        "import scipy.stats as stats\n",
        "daily_sales = [220, 245, 210, 265, 230, 250, 260, 275, 240, 255,\n",
        "235, 260, 245, 250, 225, 270, 265, 255, 250, 260]\n",
        "# Mean and std deviation\n",
        "mean_sales = np.mean(daily_sales)\n",
        "std_sales = np.std(daily_sales, ddof=1)\n",
        "n = len(daily_sales)\n",
        "# Standard error\n",
        "se = std_sales / np.sqrt(n)\n",
        "# 95% confidence interval\n",
        "ci = stats.norm.interval(0.95, loc=mean_sales, scale=se)\n",
        "print(\"Mean Sales:\", mean_sales)\n",
        "print(\"95% Confidence Interval:\", ci)"
      ],
      "metadata": {
        "colab": {
          "base_uri": "https://localhost:8080/"
        },
        "id": "Tk4BsAO4xLVc",
        "outputId": "4e43659d-f17f-4904-daa6-09fd58c797fd"
      },
      "execution_count": 2,
      "outputs": [
        {
          "output_type": "stream",
          "name": "stdout",
          "text": [
            "Mean Sales: 248.25\n",
            "95% Confidence Interval: (np.float64(240.68326838343515), np.float64(255.81673161656485))\n"
          ]
        }
      ]
    }
  ]
}
