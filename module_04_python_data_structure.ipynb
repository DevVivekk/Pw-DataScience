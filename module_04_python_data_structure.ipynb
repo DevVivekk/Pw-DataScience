{
  "nbformat": 4,
  "nbformat_minor": 0,
  "metadata": {
    "colab": {
      "provenance": []
    },
    "kernelspec": {
      "name": "python3",
      "display_name": "Python 3"
    },
    "language_info": {
      "name": "python"
    }
  },
  "cells": [
    {
      "cell_type": "markdown",
      "source": [
        "# ***Theory Questions***\n",
        "\n",
        "Q1) What are data structures, and why are they important?\n",
        "- Data structures are ways to organize and store data in a program so that we can use it efficiently.\n",
        " They're important because they help us to manage and process data faster and better depending on the task.\n",
        "\n",
        "Q2) Explain the difference between mutable and immutable data types with examples.\n",
        "- Mutable means we can change the value after it's created. For example, a list is mutable we can add or remove items. Immutable means once it's made, we can't change it. A string or a tuple is immutable, we can't modify them directly.\n",
        "\n",
        "Q3)  What are the main differences between lists and tuples in Python?\n",
        "- Lists can be changed (mutable), but tuples can't (immutable). Also, lists use more memory and are a bit slower, while tuples are faster and use less memory.\n",
        "\n",
        "Q4) Describe how dictionaries store data?\n",
        "- Dictionaries store data as key-value pairs. It is like a real dictionary: the word is the key, and the definition is the value. We can quickly find a value by looking up its key.\n",
        "\n",
        "Q5) Why might you use a set instead of a list in Python?\n",
        "- Sets don't allow duplicates and are faster for checking if an item exists. If we only need unique values and care about speed, use a set.\n",
        "\n",
        "Q6)  What is a string in Python, and how is it different from a list?\n",
        "-  A string is a series of characters like \"hello\". A list can contain anything like numbers, strings, even other lists. Also, strings are immutable; we can't change them like we can with lists.\n",
        "\n",
        "Q7) How do tuples ensure data integrity in Python?\n",
        "-  Because tuples are immutable (can't be changed), they protect data from being accidentally modified. That helps keep the data safe and reliable.\n",
        "\n",
        "Q8) What is a hash table, and how does it relate to dictionaries in Python?\n",
        "-  A hash table is a way of storing data using a unique key for each value. Python dictionaries use hash tables under the hood to quickly find values by their keys.\n",
        "\n",
        "Q9) Can lists contain different data types in Python?\n",
        "- Yes! A list can hold numbers, strings, other lists, or even mixed types all together.\n",
        "\n",
        "Q10) Explain why strings are immutable in Python?\n",
        "-  Strings are immutable to make them faster, safer, and more memory-efficient. Since they don't change, Python can reuse them and avoid bugs from unexpected changes.\n",
        "\n",
        "Q11) What advantages do dictionaries offer over lists for certain tasks?\n",
        "- Dictionaries are great when you want to quickly look up a value using a name or key. They are much faster than searching through a list to find something.\n",
        "\n",
        "Q12) Describe a scenario where using a tuple would be preferable over a list?\n",
        "- If we have a fixed set of data like coordinates (x, y) or a date (day, month, year) that shouldn't change, a tuple is better because it protects the data from being modified.\n",
        "\n",
        "Q13) How do sets handle duplicate values in Python?\n",
        "- Sets automatically remove duplicates. If we try to add the same item twice, it only keeps one.\n",
        "\n",
        "Q14) How does the “in” keyword work differently for lists and dictionaries?\n",
        "- In a list, “in” checks if a value exists. In a dictionary, it checks if a key exists (not the value).\n",
        "\n",
        "Q15) Can you modify the elements of a tuple? Explain why or why not?\n",
        "- No, we can't. Tuples are immutable, so once they're created, we can't change, add, or remove elements.\n",
        "\n",
        "Q16) What is a nested dictionary, and give an example of its use case?\n",
        "- A nested dictionary is a dictionary inside another dictionary. It's useful for storing related data, like:"
      ],
      "metadata": {
        "id": "ippkBQar1tj_"
      }
    },
    {
      "cell_type": "markdown",
      "source": [],
      "metadata": {
        "id": "zZnT8K6U6ePl"
      }
    },
    {
      "cell_type": "code",
      "source": [
        "students = {\n",
        "  \"Alice\": {\"age\": 20, \"grade\": \"A\"},\n",
        "  \"Bob\": {\"age\": 22, \"grade\": \"B\"}\n",
        "}\n",
        "print(students);"
      ],
      "metadata": {
        "colab": {
          "base_uri": "https://localhost:8080/"
        },
        "id": "LAIqsy5s5ZPY",
        "outputId": "047c80a7-6134-46a9-9df7-05cd07ab4137"
      },
      "execution_count": 1,
      "outputs": [
        {
          "output_type": "stream",
          "name": "stdout",
          "text": [
            "{'Alice': {'age': 20, 'grade': 'A'}, 'Bob': {'age': 22, 'grade': 'B'}}\n"
          ]
        }
      ]
    },
    {
      "cell_type": "markdown",
      "source": [
        "Q17) Describe the time complexity of accessing elements in a dictionary?\n",
        "- Accessing a value in a dictionary is usually O(1), which means it's super fast just one quick step.\n",
        "\n",
        "Q18) In what situations are lists preferred over dictionaries?\n",
        "- Use lists when we just need an ordered collection of items, especially if the order matters or we don't need to look things up by key.\n",
        "\n",
        "Q19) Why are dictionaries considered unordered, and how does that affect data retrieval?\n",
        "- Earlier, dictionaries didn't keep the order of keys. Now in Python 3.7+, they do keep the order, but the idea is that we don't rely on the order just on the keys. We retrieve data by key, not position.\n",
        "\n",
        "Q20)  Explain the difference between a list and a dictionary in terms of data retrieval?\n",
        "- In a list, we access items by index (like list[0]). In a dictionary, we access items by key (like dict[\"name\"]), which is usually faster and more meaningful.\n"
      ],
      "metadata": {
        "id": "DoH-udxF5fYy"
      }
    },
    {
      "cell_type": "markdown",
      "source": [
        "# ***Practical Questions***"
      ],
      "metadata": {
        "id": "goV_NZIG7NAL"
      }
    },
    {
      "cell_type": "markdown",
      "source": [
        "Q1) Write a code to create a string with your name and print it."
      ],
      "metadata": {
        "id": "I_AsiXQP-qOz"
      }
    },
    {
      "cell_type": "code",
      "source": [
        "name = \"Vivek\"\n",
        "print(name);"
      ],
      "metadata": {
        "colab": {
          "base_uri": "https://localhost:8080/"
        },
        "id": "X68e1u737B6T",
        "outputId": "9552eb03-00b7-476b-d500-b27660a8c7e8"
      },
      "execution_count": 2,
      "outputs": [
        {
          "output_type": "stream",
          "name": "stdout",
          "text": [
            "Vivek\n"
          ]
        }
      ]
    },
    {
      "cell_type": "markdown",
      "source": [
        "Q2) Write a code to find the length of the string \"Hello World\"."
      ],
      "metadata": {
        "id": "ibkBDCO7-nMK"
      }
    },
    {
      "cell_type": "code",
      "source": [
        "str = \"Hello World\";\n",
        "print(len(str));"
      ],
      "metadata": {
        "colab": {
          "base_uri": "https://localhost:8080/"
        },
        "id": "Q4X6KqnD7Jh4",
        "outputId": "00170cd2-0898-4762-abbf-02e520d82224"
      },
      "execution_count": 3,
      "outputs": [
        {
          "output_type": "stream",
          "name": "stdout",
          "text": [
            "11\n"
          ]
        }
      ]
    },
    {
      "cell_type": "markdown",
      "source": [
        "Q3) Write a code to slice the first 3 characters from the string \"Python Programming\"?"
      ],
      "metadata": {
        "id": "4Dm1ostZ-isR"
      }
    },
    {
      "cell_type": "code",
      "source": [
        "str = \"Python Programming\";\n",
        "print(str[:3]);"
      ],
      "metadata": {
        "colab": {
          "base_uri": "https://localhost:8080/"
        },
        "id": "xZWnlGlx7qP8",
        "outputId": "62cbf138-fce1-488d-9b9e-b825cd40dd27"
      },
      "execution_count": 5,
      "outputs": [
        {
          "output_type": "stream",
          "name": "stdout",
          "text": [
            "Pyt\n"
          ]
        }
      ]
    },
    {
      "cell_type": "markdown",
      "source": [
        "Q4) Write a code to convert the string \"hello\" to uppercase."
      ],
      "metadata": {
        "id": "lc721ZLd-eNg"
      }
    },
    {
      "cell_type": "code",
      "source": [
        "str = \"Hello\";\n",
        "print(str.upper());"
      ],
      "metadata": {
        "colab": {
          "base_uri": "https://localhost:8080/"
        },
        "id": "qWXCd7Gw8DIs",
        "outputId": "4b7f23ca-63a5-431d-a615-76552fe25868"
      },
      "execution_count": 7,
      "outputs": [
        {
          "output_type": "stream",
          "name": "stdout",
          "text": [
            "HELLO\n"
          ]
        }
      ]
    },
    {
      "cell_type": "markdown",
      "source": [
        "Q5) Write a code to replace the word \"apple\" with \"orange\" in the string \"I like apple\"?"
      ],
      "metadata": {
        "id": "VC0YCHm4-aQu"
      }
    },
    {
      "cell_type": "code",
      "source": [
        "str = \"I like apple\"\n",
        "str = str.replace(\"apple\",\"orange\");\n",
        "print(str);\n"
      ],
      "metadata": {
        "colab": {
          "base_uri": "https://localhost:8080/"
        },
        "id": "nkSYk8bC8PNJ",
        "outputId": "8f789565-99c0-44cf-e4f4-723c91ee2514"
      },
      "execution_count": 9,
      "outputs": [
        {
          "output_type": "stream",
          "name": "stdout",
          "text": [
            "I like orange\n"
          ]
        }
      ]
    },
    {
      "cell_type": "markdown",
      "source": [
        "Q6) Write a code to create a list with numbers 1 to 5 and print it."
      ],
      "metadata": {
        "id": "lH_ptYP_-XA2"
      }
    },
    {
      "cell_type": "code",
      "source": [
        "my_list = [];\n",
        "for i in range(1,6):\n",
        "  my_list.append(i);\n",
        "print(my_list);\n",
        "print(type(my_list));"
      ],
      "metadata": {
        "colab": {
          "base_uri": "https://localhost:8080/"
        },
        "id": "tc42O-4x8fP-",
        "outputId": "3802896e-4622-4dd0-90a4-64a8d6d94846"
      },
      "execution_count": 10,
      "outputs": [
        {
          "output_type": "stream",
          "name": "stdout",
          "text": [
            "[1, 2, 3, 4, 5]\n",
            "<class 'list'>\n"
          ]
        }
      ]
    },
    {
      "cell_type": "markdown",
      "source": [
        "Q7) Write a code to append the number 10 to the list [1, 2, 3, 4]."
      ],
      "metadata": {
        "id": "l46yi03f-ThU"
      }
    },
    {
      "cell_type": "code",
      "source": [
        "mylist = [1,2,3,4];\n",
        "mylist.append(10);\n",
        "print(mylist);"
      ],
      "metadata": {
        "colab": {
          "base_uri": "https://localhost:8080/"
        },
        "id": "fidw03yd88Sz",
        "outputId": "f3e37922-2c2a-420e-fc9a-c10b0d2e8ea8"
      },
      "execution_count": 11,
      "outputs": [
        {
          "output_type": "stream",
          "name": "stdout",
          "text": [
            "[1, 2, 3, 4, 10]\n"
          ]
        }
      ]
    },
    {
      "cell_type": "markdown",
      "source": [
        "Q8)  Write a code to remove the number 3 from the list [1, 2, 3, 4, 5]."
      ],
      "metadata": {
        "id": "YG8Z0EtD-PjB"
      }
    },
    {
      "cell_type": "code",
      "source": [
        "mylist = [1,2,3,4,5];\n",
        "mylist.remove(3);\n",
        "print(mylist);"
      ],
      "metadata": {
        "colab": {
          "base_uri": "https://localhost:8080/"
        },
        "id": "KP-Sq_N-9Kcs",
        "outputId": "11825b91-9219-481d-dc49-666866962c0c"
      },
      "execution_count": 12,
      "outputs": [
        {
          "output_type": "stream",
          "name": "stdout",
          "text": [
            "[1, 2, 4, 5]\n"
          ]
        }
      ]
    },
    {
      "cell_type": "markdown",
      "source": [
        "Q9) Write a code to access the second element in the list ['a', 'b', 'c','d']"
      ],
      "metadata": {
        "id": "LPrv1-Qy-Dhc"
      }
    },
    {
      "cell_type": "code",
      "source": [
        "mylist = ['a', 'b', 'c', 'd'];\n",
        "print(mylist[1]); #0 based indexing"
      ],
      "metadata": {
        "colab": {
          "base_uri": "https://localhost:8080/"
        },
        "id": "geClDmSl9Urz",
        "outputId": "928caf0d-e40b-4e5a-995b-0215811fecd8"
      },
      "execution_count": 13,
      "outputs": [
        {
          "output_type": "stream",
          "name": "stdout",
          "text": [
            "b\n"
          ]
        }
      ]
    },
    {
      "cell_type": "markdown",
      "source": [
        "Q10) Write a code to reverse the list [10, 20, 30, 40, 50]."
      ],
      "metadata": {
        "id": "8r0RYbKB99rN"
      }
    },
    {
      "cell_type": "code",
      "source": [
        "mylist = [10,20,30,40,50];\n",
        "print(mylist[::-1]);"
      ],
      "metadata": {
        "colab": {
          "base_uri": "https://localhost:8080/"
        },
        "id": "n5QxAQzy9hgY",
        "outputId": "f5f3b089-8528-407c-f0e2-9715e572c724"
      },
      "execution_count": 14,
      "outputs": [
        {
          "output_type": "stream",
          "name": "stdout",
          "text": [
            "[50, 40, 30, 20, 10]\n"
          ]
        }
      ]
    },
    {
      "cell_type": "markdown",
      "source": [
        "Q11) Write a code to create a tuple with the elements 100, 200, 300 and print it."
      ],
      "metadata": {
        "id": "8XToV1eb_ar0"
      }
    },
    {
      "cell_type": "code",
      "source": [
        "my_tuple = (100, 200, 300)\n",
        "print(my_tuple)"
      ],
      "metadata": {
        "colab": {
          "base_uri": "https://localhost:8080/"
        },
        "id": "4JVQxxl7_dFN",
        "outputId": "4ae97455-bbc6-4343-dc61-7e08b3ab7ccb"
      },
      "execution_count": 15,
      "outputs": [
        {
          "output_type": "stream",
          "name": "stdout",
          "text": [
            "(100, 200, 300)\n"
          ]
        }
      ]
    },
    {
      "cell_type": "markdown",
      "source": [
        "Q12)  Write a code to access the second-to-last element of the tuple ('red', 'green', 'blue', 'yellow')."
      ],
      "metadata": {
        "id": "3Hk1Yyoc_hn9"
      }
    },
    {
      "cell_type": "code",
      "source": [
        "colors = ('red', 'green', 'blue', 'yellow')\n",
        "print(colors[-2]);"
      ],
      "metadata": {
        "colab": {
          "base_uri": "https://localhost:8080/"
        },
        "id": "8Xnl0xBn_mik",
        "outputId": "aab511eb-7529-4143-adc2-de1278b1a7f9"
      },
      "execution_count": 16,
      "outputs": [
        {
          "output_type": "stream",
          "name": "stdout",
          "text": [
            "blue\n"
          ]
        }
      ]
    },
    {
      "cell_type": "markdown",
      "source": [
        "Q13) Write a code to find the minimum number in the tuple (10, 20, 5, 15)."
      ],
      "metadata": {
        "id": "BcVenWZb_rkF"
      }
    },
    {
      "cell_type": "code",
      "source": [
        "nums = (10, 20, 5, 15)\n",
        "print(min(nums))"
      ],
      "metadata": {
        "colab": {
          "base_uri": "https://localhost:8080/"
        },
        "id": "l9NkDZUH_ww6",
        "outputId": "d39f346b-af84-4b28-8857-6002af4ca57a"
      },
      "execution_count": 17,
      "outputs": [
        {
          "output_type": "stream",
          "name": "stdout",
          "text": [
            "5\n"
          ]
        }
      ]
    },
    {
      "cell_type": "markdown",
      "source": [
        "Q14) Find the index of \"cat\" in the tuple ('dog', 'cat', 'rabbit')."
      ],
      "metadata": {
        "id": "DTA3Lqo3_2f3"
      }
    },
    {
      "cell_type": "code",
      "source": [
        "animals = ('dog', 'cat', 'rabbit')\n",
        "print(animals.index(\"cat\"))"
      ],
      "metadata": {
        "colab": {
          "base_uri": "https://localhost:8080/"
        },
        "id": "QW8n-y9d_8kw",
        "outputId": "354417a7-7fda-438f-f222-067f88b4b64b"
      },
      "execution_count": 18,
      "outputs": [
        {
          "output_type": "stream",
          "name": "stdout",
          "text": [
            "1\n"
          ]
        }
      ]
    },
    {
      "cell_type": "markdown",
      "source": [
        "Q15) Write a code to create a tuple containing three different fruits and check if \"kiwi\" is in it."
      ],
      "metadata": {
        "id": "oi-ivopr__0N"
      }
    },
    {
      "cell_type": "code",
      "source": [
        "fruits = ('apple', 'banana', 'orange')\n",
        "print(\"kiwi\" in fruits)"
      ],
      "metadata": {
        "colab": {
          "base_uri": "https://localhost:8080/"
        },
        "id": "hM8rv6-tBuMX",
        "outputId": "c2894a8c-c69f-41a1-e38a-17b9b474c350"
      },
      "execution_count": 19,
      "outputs": [
        {
          "output_type": "stream",
          "name": "stdout",
          "text": [
            "False\n"
          ]
        }
      ]
    },
    {
      "cell_type": "markdown",
      "source": [
        "Q15) Write a code to create a set with the elements 'a', 'b', 'c' and print it."
      ],
      "metadata": {
        "id": "cSNGYQrrByZ1"
      }
    },
    {
      "cell_type": "code",
      "source": [
        "my_set = {'a', 'b', 'c'}\n",
        "print(my_set)"
      ],
      "metadata": {
        "colab": {
          "base_uri": "https://localhost:8080/"
        },
        "id": "qpPDjgg_Dh3T",
        "outputId": "772aad8f-9d3e-42ad-bedd-0684d9ca410d"
      },
      "execution_count": 20,
      "outputs": [
        {
          "output_type": "stream",
          "name": "stdout",
          "text": [
            "{'a', 'c', 'b'}\n"
          ]
        }
      ]
    },
    {
      "cell_type": "markdown",
      "source": [
        "Q17) Write a code to clear all elements from the set {1, 2, 3, 4, 5}."
      ],
      "metadata": {
        "id": "YNuHn8skDu8L"
      }
    },
    {
      "cell_type": "code",
      "source": [
        "my_set = {1, 2, 3, 4, 5}\n",
        "my_set.clear()\n",
        "print(my_set)"
      ],
      "metadata": {
        "colab": {
          "base_uri": "https://localhost:8080/"
        },
        "id": "4Ir_t05VD5Em",
        "outputId": "35690549-e9d5-4007-fd36-83542547d43b"
      },
      "execution_count": 21,
      "outputs": [
        {
          "output_type": "stream",
          "name": "stdout",
          "text": [
            "set()\n"
          ]
        }
      ]
    },
    {
      "cell_type": "markdown",
      "source": [
        "Q18) Write a code to remove the element 4 from the set {1, 2, 3, 4}."
      ],
      "metadata": {
        "id": "AYREqC12D8WK"
      }
    },
    {
      "cell_type": "code",
      "source": [
        "my_set = {1, 2, 3, 4}\n",
        "my_set.remove(4)\n",
        "print(my_set)"
      ],
      "metadata": {
        "colab": {
          "base_uri": "https://localhost:8080/"
        },
        "id": "9Ty2hZueD_9q",
        "outputId": "127ab72b-2c1c-48b6-e62d-45124311a01b"
      },
      "execution_count": 22,
      "outputs": [
        {
          "output_type": "stream",
          "name": "stdout",
          "text": [
            "{1, 2, 3}\n"
          ]
        }
      ]
    },
    {
      "cell_type": "markdown",
      "source": [
        "Q19) Write a code to find the union of two sets {1, 2, 3} and {3, 4, 5}."
      ],
      "metadata": {
        "id": "XwtwjeWMEDjM"
      }
    },
    {
      "cell_type": "code",
      "source": [
        "a = {1, 2, 3}\n",
        "b = {3, 4, 5}\n",
        "print(a.union(b))"
      ],
      "metadata": {
        "colab": {
          "base_uri": "https://localhost:8080/"
        },
        "id": "29IqeS7YEHzM",
        "outputId": "920661ce-893f-4bbc-c88c-44b5580fb005"
      },
      "execution_count": 23,
      "outputs": [
        {
          "output_type": "stream",
          "name": "stdout",
          "text": [
            "{1, 2, 3, 4, 5}\n"
          ]
        }
      ]
    },
    {
      "cell_type": "markdown",
      "source": [
        "Q20) Write a code to find the intersection of two sets {1, 2, 3} and {2, 3, 4}."
      ],
      "metadata": {
        "id": "2bZBIQeeEND4"
      }
    },
    {
      "cell_type": "code",
      "source": [
        "a = {1, 2, 3}\n",
        "b = {2, 3, 4}\n",
        "print(a.intersection(b))"
      ],
      "metadata": {
        "colab": {
          "base_uri": "https://localhost:8080/"
        },
        "id": "HSmxvedEESW8",
        "outputId": "e72efb3e-a8ed-49ae-d899-3f0b3c487bfb"
      },
      "execution_count": 24,
      "outputs": [
        {
          "output_type": "stream",
          "name": "stdout",
          "text": [
            "{2, 3}\n"
          ]
        }
      ]
    },
    {
      "cell_type": "markdown",
      "source": [
        "Q21) Write a code to create a dictionary with the keys \"name\", \"age\", and \"city\", and print it."
      ],
      "metadata": {
        "id": "4KljKCl9EiSN"
      }
    },
    {
      "cell_type": "code",
      "source": [
        "person = {\"name\": \"Vivek\", \"age\": 22, \"city\": \"Delhi\"}\n",
        "print(person)"
      ],
      "metadata": {
        "colab": {
          "base_uri": "https://localhost:8080/"
        },
        "id": "nN4F2-ExEnHX",
        "outputId": "7888524d-684d-4824-c5a4-c37ab8450d31"
      },
      "execution_count": 27,
      "outputs": [
        {
          "output_type": "stream",
          "name": "stdout",
          "text": [
            "{'name': 'Vivek', 'age': 22, 'city': 'Delhi'}\n"
          ]
        }
      ]
    },
    {
      "cell_type": "markdown",
      "source": [
        "Q22) Write a code to add a new key-value pair \"country\": \"USA\" to the dictionary {'name': 'John', 'age': 25}"
      ],
      "metadata": {
        "id": "EjoO_UXlEsJ2"
      }
    },
    {
      "cell_type": "code",
      "source": [
        "person = {'name': 'John', 'age': 25}\n",
        "person[\"country\"] = \"USA\"\n",
        "print(person)"
      ],
      "metadata": {
        "colab": {
          "base_uri": "https://localhost:8080/"
        },
        "id": "1hEPgK1zE17l",
        "outputId": "8a80bf9c-d23f-4de5-b89f-a8455fa1e54e"
      },
      "execution_count": 28,
      "outputs": [
        {
          "output_type": "stream",
          "name": "stdout",
          "text": [
            "{'name': 'John', 'age': 25, 'country': 'USA'}\n"
          ]
        }
      ]
    },
    {
      "cell_type": "markdown",
      "source": [
        "Q23) Write a code to access the value associated with the key \"name\" in the dictionary {'name': 'Alice', 'age': 30}."
      ],
      "metadata": {
        "id": "Rv1F0tg2E5nT"
      }
    },
    {
      "cell_type": "code",
      "source": [
        "person = {'name': 'Alice', 'age': 30}\n",
        "print(person[\"name\"])"
      ],
      "metadata": {
        "colab": {
          "base_uri": "https://localhost:8080/"
        },
        "id": "FflW0PnfE9mr",
        "outputId": "cbe9dea4-9518-4d01-878c-bf1765e39f81"
      },
      "execution_count": 29,
      "outputs": [
        {
          "output_type": "stream",
          "name": "stdout",
          "text": [
            "Alice\n"
          ]
        }
      ]
    },
    {
      "cell_type": "markdown",
      "source": [
        " Q24) Write a code to remove the key \"age\" from the dictionary {'name': 'Bob', 'age': 22, 'city': 'New York'}."
      ],
      "metadata": {
        "id": "6_cm-AZpFBBh"
      }
    },
    {
      "cell_type": "code",
      "source": [
        "person = {'name': 'Bob', 'age': 22, 'city': 'New York'}\n",
        "person.pop(\"age\")\n",
        "print(person)"
      ],
      "metadata": {
        "colab": {
          "base_uri": "https://localhost:8080/"
        },
        "id": "j8UsIhjHFFAd",
        "outputId": "98217d65-2638-4dbb-d016-4ce2cecb9061"
      },
      "execution_count": 30,
      "outputs": [
        {
          "output_type": "stream",
          "name": "stdout",
          "text": [
            "{'name': 'Bob', 'city': 'New York'}\n"
          ]
        }
      ]
    },
    {
      "cell_type": "markdown",
      "source": [
        "Q25) Write a code to check if the key \"city\" exists in the dictionary {'name': 'Alice', 'city': 'Paris'}."
      ],
      "metadata": {
        "id": "p--_0osaFL6f"
      }
    },
    {
      "cell_type": "code",
      "source": [
        "person = {'name': 'Alice', 'city': 'Paris'}\n",
        "print(\"city\" in person)"
      ],
      "metadata": {
        "colab": {
          "base_uri": "https://localhost:8080/"
        },
        "id": "Yja3PJmaFVTr",
        "outputId": "b9b83eac-edd5-49db-ccb9-b8acd8498a84"
      },
      "execution_count": 31,
      "outputs": [
        {
          "output_type": "stream",
          "name": "stdout",
          "text": [
            "True\n"
          ]
        }
      ]
    },
    {
      "cell_type": "markdown",
      "source": [
        "Q26)  Write a code to create a list, a tuple, and a dictionary, and print them all."
      ],
      "metadata": {
        "id": "S2VvBph_FacF"
      }
    },
    {
      "cell_type": "code",
      "source": [
        "my_list = [1, 2, 3]\n",
        "my_tuple = ('a', 'b', 'c')\n",
        "my_dict = {\"name\": \"Tom\", \"age\": 20}\n",
        "print(my_list)\n",
        "print(my_tuple)\n",
        "print(my_dict)"
      ],
      "metadata": {
        "colab": {
          "base_uri": "https://localhost:8080/"
        },
        "id": "IxeaUaagFffx",
        "outputId": "2740fdce-5278-43f7-cc4b-99bded279423"
      },
      "execution_count": 32,
      "outputs": [
        {
          "output_type": "stream",
          "name": "stdout",
          "text": [
            "[1, 2, 3]\n",
            "('a', 'b', 'c')\n",
            "{'name': 'Tom', 'age': 20}\n"
          ]
        }
      ]
    },
    {
      "cell_type": "markdown",
      "source": [
        "Q27)  Write a code to create a list of 5 random numbers between 1 and 100, sort it in ascending order, and print the\n",
        "result.(replaced)"
      ],
      "metadata": {
        "id": "zth2N2yjFjYq"
      }
    },
    {
      "cell_type": "code",
      "source": [
        "import random\n",
        "nums = random.sample(range(1, 101), 5)\n",
        "nums.sort()\n",
        "print(nums)\n"
      ],
      "metadata": {
        "colab": {
          "base_uri": "https://localhost:8080/"
        },
        "id": "YD2qp1mEFseD",
        "outputId": "59cadd2d-487d-4b5b-8d51-55bd0a40385d"
      },
      "execution_count": 33,
      "outputs": [
        {
          "output_type": "stream",
          "name": "stdout",
          "text": [
            "[26, 36, 42, 75, 96]\n"
          ]
        }
      ]
    },
    {
      "cell_type": "markdown",
      "source": [
        "Q28)  Write a code to create a list with strings and print the element at the third index."
      ],
      "metadata": {
        "id": "-xhudf-OF0d-"
      }
    },
    {
      "cell_type": "code",
      "source": [
        "words = [\"apple\", \"banana\", \"cherry\", \"date\", \"kiwi\"]\n",
        "print(words[3])"
      ],
      "metadata": {
        "colab": {
          "base_uri": "https://localhost:8080/"
        },
        "id": "vKWJJDsiF305",
        "outputId": "99913a3f-3aab-47ff-c5a5-e27cc76b24bf"
      },
      "execution_count": 34,
      "outputs": [
        {
          "output_type": "stream",
          "name": "stdout",
          "text": [
            "date\n"
          ]
        }
      ]
    },
    {
      "cell_type": "markdown",
      "source": [
        "Q29) Write a code to combine two dictionaries into one and print the result."
      ],
      "metadata": {
        "id": "Bk0KJNZCF89S"
      }
    },
    {
      "cell_type": "code",
      "source": [
        "dict1 = {\"a\": 1, \"b\": 2}\n",
        "dict2 = {\"c\": 3, \"d\": 4}\n",
        "combined = {**dict1, **dict2}\n",
        "print(combined)"
      ],
      "metadata": {
        "colab": {
          "base_uri": "https://localhost:8080/"
        },
        "id": "2A4jwFqDGA34",
        "outputId": "a6ea4731-8bb1-4e01-c5fb-56acbfcea748"
      },
      "execution_count": 35,
      "outputs": [
        {
          "output_type": "stream",
          "name": "stdout",
          "text": [
            "{'a': 1, 'b': 2, 'c': 3, 'd': 4}\n"
          ]
        }
      ]
    },
    {
      "cell_type": "markdown",
      "source": [
        "Q30) Write a code to convert a list of strings into a set."
      ],
      "metadata": {
        "id": "N6fxfp9-GGiR"
      }
    },
    {
      "cell_type": "code",
      "source": [
        "words = [\"apple\", \"banana\", \"apple\", \"orange\"]\n",
        "unique_words = set(words)\n",
        "print(unique_words)"
      ],
      "metadata": {
        "colab": {
          "base_uri": "https://localhost:8080/"
        },
        "id": "Cput0JUOGKtE",
        "outputId": "1d1055a5-015c-49bd-f1b9-77206805f95e"
      },
      "execution_count": 36,
      "outputs": [
        {
          "output_type": "stream",
          "name": "stdout",
          "text": [
            "{'apple', 'orange', 'banana'}\n"
          ]
        }
      ]
    }
  ]
}