{
  "nbformat": 4,
  "nbformat_minor": 0,
  "metadata": {
    "colab": {
      "provenance": []
    },
    "kernelspec": {
      "name": "python3",
      "display_name": "Python 3"
    },
    "language_info": {
      "name": "python"
    }
  },
  "cells": [
    {
      "cell_type": "markdown",
      "source": [
        "# ***Theory Questions***\n",
        "\n",
        "Q1) What is Object-Oriented Programming (OOP)?\n",
        "- OOP is a way of writing programs using real-world-like structures called objects, which have data (variables) and behavior (functions). It helps organize code better and makes it easier to reuse and maintain.\n",
        "\n",
        "Q2) What is a class in OOP?\n",
        "- A class is like a blueprint or template for creating objects. For example, a class Car defines what a car should have (color, speed) and what it can do (drive, stop).\n",
        "\n",
        "Q3) What is an object in OOP?\n",
        "- An object is a real version of a class. If Car is the blueprint, then my_car = Car() is the actual car we can drive.\n",
        "\n",
        "Q4) What is the difference between abstraction and encapsulation?\n",
        "- Abstraction = Hiding complex stuff and showing only the important parts.\n",
        "\n",
        "- Encapsulation = Wrapping data and methods into a single unit (class), and protecting it from outside access.\n",
        "\n",
        "Q5) What are dunder methods in Python?\n",
        "- Dunder means double underscore. These are special methods like __init__, __str__, __len__. Python uses them to give classes special powers (like how objects should behave when printed or added).\n",
        "\n",
        "Q6) Explain the concept of inheritance in OOP?\n",
        "- Inheritance means one class (child) can use or extend features of another class (parent). Like a Dog class can inherit from an Animal class.\n",
        "\n",
        "Q7) What is polymorphism in OOP?\n",
        "- Polymorphism means same action, different behavior. For example, a fly() function might work differently for a bird and an airplane, even if the function name is the same.\n",
        "\n",
        "Q8) How is encapsulation achieved in Python?\n",
        "- Encapsulation is done by making variables private (using _ or __) and controlling access using getter/setter methods or @property.\n",
        "\n",
        "Q9) What is a constructor in Python?\n",
        "- A constructor is a special method called __init__. It's run automatically when we create an object to set it up (like setting name, age).\n",
        "\n",
        "Q10) What are class and static methods in Python?\n",
        "- Class method (@classmethod) ->> Works with the class itself, not just one object.\n",
        "\n",
        "- Static method (@staticmethod) ->> A regular function inside a class that doesn't need object or class info\n",
        "\n",
        "Q11) What is method overloading in Python?\n",
        "- Method overloading means having multiple methods with the same name but different arguments. Python doesn't directly support it, but we can mimic it using default or variable arguments (*args, **kwargs).\n",
        "\n",
        "Q12) What is method overriding in OOP?\n",
        "- Overriding means a child class replaces a method of its parent class with its own version.\n",
        "\n",
        "Q13) What is a property decorator in Python?\n",
        "- @property turns a method into a readable attribute, letting us access a method like a variable.\n",
        "\n",
        "Q14) Why is polymorphism important in OOP?\n",
        "- Polymorphism makes our code flexible and easier to extend. We can use the same interface (function name) for different object types without changing the main logic.\n",
        "\n",
        "Q15) What is an abstract class in Python?\n",
        "- An abstract class is a partial blueprint. We can't make objects from it directly. It has methods that must be defined in child classes. Use it with ABC and @abstractmethod.\n",
        "\n",
        "Q16) What are the advantages of OOP?\n",
        "- Code reusability (via inheritance)\n",
        "- Better organization (using classes)\n",
        "- Easy to maintain and extend\n",
        "- Real-world modeling\n",
        "- Encapsulation and security\n",
        "\n",
        "Q17) Difference between class variable and instance variable.\n",
        "- Class variable is shared by all objects of the class.\n",
        "- Instance variable is unique to each object.\n",
        "\n",
        "Q18) What is multiple inheritance in Python?\n",
        "- When a class inherits from more than one parent class, it's called multiple inheritance.\n",
        "\n",
        "Q19) Explain the purpose of '__str__' and '__repr__' methods in Python?\n",
        "- __str__() => What we see when we print(object) - user-friendly.\n",
        "- __repr__() => What developers see - meant for debugging.\n",
        "\n",
        "Q20) What is the significance of the super() function in Python?\n",
        "- super() lets us call methods from the parent class. Useful when we override a method but still want the parent version to run.\n",
        "\n",
        "Q21) What is the significance of the __del__ method in Python?\n",
        "- __del__() is the destructor. It's called when an object is about to be destroyed (like cleanup work). It's not always reliable.\n",
        "\n",
        "Q22) What is the difference between @staticmethod and @classmethod in Python?\n",
        "-  @classmethod:\n",
        "- Decorates a method that operates on the class itself, not on an instance - of the class.\n",
        "- It automatically receives the class as its first argument, conventionally named cls.\n",
        "- Can access and modify class-level attributes and call other class methods.\n",
        "\n",
        "- @staticmethod:\n",
        "- Decorates a method that is associated with a class but does not operate on the class or an instance.\n",
        "- It does not receive any implicit first argument (like self or cls).\n",
        "- Cannot access or modify class-level attributes or instance-specific data unless explicitly passed as arguments.\n",
        "\n",
        "Q23) How does polymorphism work in Python with inheritance?\n",
        "- With inheritance, Python lets different child classes define the same method. When we call that method, Python runs the correct version based on the object type, even if we don't know which class it is.\n",
        "\n",
        "Q24) What is method chaining in Python OOP?\n",
        "- Method chaining is when you call multiple methods one after another on the same object. Each method must return self for this to work.\n",
        "\n",
        "Q25) What is the purpose of the __call__ method in Python?\n",
        "- The __call__ method in Python allows instances of a class to be invoked or called as if they were regular functions."
      ],
      "metadata": {
        "id": "MEz7HXw0gDdY"
      }
    },
    {
      "cell_type": "markdown",
      "source": [],
      "metadata": {
        "id": "YWvRpVGfpqib"
      }
    },
    {
      "cell_type": "markdown",
      "source": [
        "# **Practical Question**"
      ],
      "metadata": {
        "id": "H9AzPwXEptkU"
      }
    },
    {
      "cell_type": "markdown",
      "source": [
        "Q1) Create a parent class Animal with a method speak() that prints a generic message. Create a child class Dog\n",
        "that overrides the speak() method to print \"Bark!\"."
      ],
      "metadata": {
        "id": "nW6_D5MFpx7r"
      }
    },
    {
      "cell_type": "code",
      "source": [
        "class Animal:\n",
        "    def speak(self):\n",
        "        print(\"animal sound\")\n",
        "\n",
        "class Dog(Animal):\n",
        "    def speak(self):\n",
        "        print(\"Bark!\")"
      ],
      "metadata": {
        "id": "CLSndDGssJUt"
      },
      "execution_count": 2,
      "outputs": []
    },
    {
      "cell_type": "markdown",
      "source": [
        "Q2) Write a program to create an abstract class Shape with a method area(). Derive classes Circle and Rectangle\n",
        "from it and implement the area() method in both."
      ],
      "metadata": {
        "id": "PE-F5TLUsTeh"
      }
    },
    {
      "cell_type": "code",
      "source": [
        "from abc import ABC, abstractmethod\n",
        "\n",
        "class Shape(ABC):\n",
        "    @abstractmethod\n",
        "    def area(self):\n",
        "        pass\n",
        "\n",
        "class Circle(Shape):\n",
        "    def __init__(self, radius):\n",
        "        self.radius = radius\n",
        "\n",
        "    def area(self):\n",
        "        return 3.14 * self.radius ** 2\n",
        "\n",
        "class Rectangle(Shape):\n",
        "    def __init__(self, length, width):\n",
        "        self.length = length\n",
        "        self.width = width\n",
        "\n",
        "    def area(self):\n",
        "        return self.length * self.width"
      ],
      "metadata": {
        "id": "DvR1ut-rsWgg"
      },
      "execution_count": 3,
      "outputs": []
    },
    {
      "cell_type": "markdown",
      "source": [
        "Q3) Implement a multi-level inheritance scenario where a class Vehicle has an attribute type. Derive a class Car\n",
        "and further derive a class ElectricCar that adds a battery attribute."
      ],
      "metadata": {
        "id": "T5hdfmYEsc70"
      }
    },
    {
      "cell_type": "code",
      "source": [
        "class Vehicle:\n",
        "    def __init__(self, v_type):\n",
        "        self.type = v_type\n",
        "\n",
        "class Car(Vehicle):\n",
        "    def __init__(self, v_type, brand):\n",
        "        super().__init__(v_type)\n",
        "        self.brand = brand\n",
        "\n",
        "class ElectricCar(Car):\n",
        "    def __init__(self, v_type, brand, battery):\n",
        "        super().__init__(v_type, brand)\n",
        "        self.battery = battery"
      ],
      "metadata": {
        "id": "McBfkW_Msi8k"
      },
      "execution_count": null,
      "outputs": []
    },
    {
      "cell_type": "markdown",
      "source": [
        "Q4) Demonstrate polymorphism by creating a base class Bird with a method fly(). Create two derived classes\n",
        "Sparrow and Penguin that override the fly() method."
      ],
      "metadata": {
        "id": "kR-G4iAVtWFr"
      }
    },
    {
      "cell_type": "code",
      "source": [
        "class Bird:\n",
        "    def fly(self):\n",
        "        print(\"Some bird is flying\")\n",
        "\n",
        "class Sparrow(Bird):\n",
        "    def fly(self):\n",
        "        print(\"Sparrow is flying high\")\n",
        "\n",
        "class Penguin(Bird):\n",
        "    def fly(self):\n",
        "        print(\"Penguins can't fly\")"
      ],
      "metadata": {
        "id": "cHfSzOjBteD6"
      },
      "execution_count": null,
      "outputs": []
    },
    {
      "cell_type": "markdown",
      "source": [
        "Q5)  Write a program to demonstrate encapsulation by creating a class BankAccount with private attributes\n",
        "balance and methods to deposit, withdraw, and check balance."
      ],
      "metadata": {
        "id": "NdFPj4gktgmt"
      }
    },
    {
      "cell_type": "code",
      "source": [
        "class BankAccount:\n",
        "    def __init__(self, balance=0):\n",
        "        self.__balance = balance\n",
        "\n",
        "    def deposit(self, amount):\n",
        "        if amount > 0:\n",
        "            self.__balance += amount\n",
        "\n",
        "    def withdraw(self, amount):\n",
        "        if 0 < amount <= self.__balance:\n",
        "            self.__balance -= amount\n",
        "\n",
        "    def check_balance(self):\n",
        "        return self.__balance"
      ],
      "metadata": {
        "id": "EZXsuWPDtt7I"
      },
      "execution_count": null,
      "outputs": []
    },
    {
      "cell_type": "markdown",
      "source": [
        "Q6)  Demonstrate runtime polymorphism using a method play() in a base class Instrument. Derive classes Guitar\n",
        "and Piano that implement their own version of play()."
      ],
      "metadata": {
        "id": "vxIH50dOtxEn"
      }
    },
    {
      "cell_type": "code",
      "source": [
        "class Instrument:\n",
        "    def play(self):\n",
        "        print(\"Instrument is playing\")\n",
        "\n",
        "class Guitar(Instrument):\n",
        "    def play(self):\n",
        "        print(\"Guitar is playing\")\n",
        "\n",
        "class Piano(Instrument):\n",
        "    def play(self):\n",
        "        print(\"Piano is playing\")"
      ],
      "metadata": {
        "id": "1yItGHqyt0Pi"
      },
      "execution_count": null,
      "outputs": []
    },
    {
      "cell_type": "markdown",
      "source": [
        "Q7) Create a class MathOperations with a class method add_numbers() to add two numbers and a static\n",
        "method subtract_numbers() to subtract two numbers."
      ],
      "metadata": {
        "id": "T9mCSUTbt4kB"
      }
    },
    {
      "cell_type": "code",
      "source": [
        "class MathOperations:\n",
        "    @classmethod\n",
        "    def add_numbers(cls, a, b):\n",
        "        return a + b\n",
        "\n",
        "    @staticmethod\n",
        "    def subtract_numbers(a, b):\n",
        "        return a - b"
      ],
      "metadata": {
        "id": "hHaC4-0Ct7Ok"
      },
      "execution_count": null,
      "outputs": []
    },
    {
      "cell_type": "markdown",
      "source": [
        "Q8) Implement a class Person with a class method to count the total number of persons created."
      ],
      "metadata": {
        "id": "-6u4DI7Vt-lp"
      }
    },
    {
      "cell_type": "code",
      "source": [
        "class Person:\n",
        "    count = 0\n",
        "\n",
        "    def __init__(self, name):\n",
        "        self.name = name\n",
        "        Person.count += 1\n",
        "\n",
        "    @classmethod\n",
        "    def get_count(cls):\n",
        "        return cls.count"
      ],
      "metadata": {
        "id": "YeelU6aauDFa"
      },
      "execution_count": null,
      "outputs": []
    },
    {
      "cell_type": "markdown",
      "source": [
        "Q9)  Write a class Fraction with attributes numerator and denominator. Override the str method to display the\n",
        "fraction as \"numerator/denominator\"."
      ],
      "metadata": {
        "id": "miGRcbZvuNVw"
      }
    },
    {
      "cell_type": "code",
      "source": [
        "class Fraction:\n",
        "    def __init__(self, numerator, denominator):\n",
        "        self.numerator = numerator\n",
        "        self.denominator = denominator\n",
        "\n",
        "    def __str__(self):\n",
        "        return f\"{self.numerator}/{self.denominator}\""
      ],
      "metadata": {
        "id": "rFWfEaXtuRmF"
      },
      "execution_count": null,
      "outputs": []
    },
    {
      "cell_type": "markdown",
      "source": [
        "Q10) Demonstrate operator overloading by creating a class Vector and overriding the add method to add two\n",
        "vectors."
      ],
      "metadata": {
        "id": "YcfaNsukuYu6"
      }
    },
    {
      "cell_type": "code",
      "source": [
        "class Vector:\n",
        "    def __init__(self, x, y):\n",
        "        self.x = x\n",
        "        self.y = y\n",
        "\n",
        "    def __add__(self, other):\n",
        "        return Vector(self.x + other.x, self.y + other.y)\n",
        "\n",
        "    def __str__(self):\n",
        "        return f\"({self.x}, {self.y})\""
      ],
      "metadata": {
        "id": "F5_JlMnxuYb-"
      },
      "execution_count": null,
      "outputs": []
    },
    {
      "cell_type": "markdown",
      "source": [
        "Q11) Create a class Person with attributes name and age. Add a method greet() that prints \"Hello, my name is\n",
        "{name} and I am {age} years old.\""
      ],
      "metadata": {
        "id": "0Mpkg1Kuuovx"
      }
    },
    {
      "cell_type": "code",
      "source": [
        "class Person:\n",
        "    def __init__(self, name, age):\n",
        "        self.name = name\n",
        "        self.age = age\n",
        "\n",
        "    def greet(self):\n",
        "        print(f\"Hello, my name is {self.name} and I am {self.age} years old.\")"
      ],
      "metadata": {
        "id": "Yiu7Nw5OxPVu"
      },
      "execution_count": 4,
      "outputs": []
    },
    {
      "cell_type": "markdown",
      "source": [
        "Q12) . Implement a class Student with attributes name and grades. Create a method average_grade() to compute\n",
        "the average of the grades."
      ],
      "metadata": {
        "id": "xZQzh46RxRRG"
      }
    },
    {
      "cell_type": "code",
      "source": [
        "class Student:\n",
        "    def __init__(self, name, grades):\n",
        "        self.name = name\n",
        "        self.grades = grades\n",
        "\n",
        "    def average_grade(self):\n",
        "        return sum(self.grades) / len(self.grades)"
      ],
      "metadata": {
        "id": "AZu2G7ohxUf7"
      },
      "execution_count": null,
      "outputs": []
    },
    {
      "cell_type": "markdown",
      "source": [
        "Q13)  Create a class Rectangle with methods set_dimensions() to set the dimensions and area() to calculate the\n",
        "area."
      ],
      "metadata": {
        "id": "CaEeyddYxaPs"
      }
    },
    {
      "cell_type": "code",
      "source": [
        "class Rectangle:\n",
        "    def set_dimensions(self, length, width):\n",
        "        self.length = length\n",
        "        self.width = width\n",
        "\n",
        "    def area(self):\n",
        "        return self.length * self.width"
      ],
      "metadata": {
        "id": "Lg-NMGdSxhwZ"
      },
      "execution_count": null,
      "outputs": []
    },
    {
      "cell_type": "markdown",
      "source": [
        "Q14)  Create a class Employee with a method calculate_salary() that computes the salary based on hours worked\n",
        "and hourly rate. Create a derived class Manager that adds a bonus to the salary."
      ],
      "metadata": {
        "id": "I4e6GfrbxlZ9"
      }
    },
    {
      "cell_type": "code",
      "source": [
        "class Employee:\n",
        "    def calculate_salary(self, hours, rate):\n",
        "        return hours * rate\n",
        "\n",
        "class Manager(Employee):\n",
        "    def calculate_salary(self, hours, rate, bonus=0):\n",
        "        return super().calculate_salary(hours, rate) + bonus\n"
      ],
      "metadata": {
        "id": "LUjqyoIbxp-L"
      },
      "execution_count": null,
      "outputs": []
    },
    {
      "cell_type": "markdown",
      "source": [
        "Q15)  Create a class Product with attributes name, price, and quantity. Implement a method total_price() that\n",
        "calculates the total price of the product."
      ],
      "metadata": {
        "id": "qbH6nRuVyBWD"
      }
    },
    {
      "cell_type": "code",
      "source": [
        "class Product:\n",
        "    def __init__(self, name, price, quantity):\n",
        "        self.name = name\n",
        "        self.price = price\n",
        "        self.quantity = quantity\n",
        "\n",
        "    def total_price(self):\n",
        "        return self.price * self.quantity"
      ],
      "metadata": {
        "id": "EOed82Q2yLFu"
      },
      "execution_count": null,
      "outputs": []
    },
    {
      "cell_type": "markdown",
      "source": [
        "Q16) Create a class Animal with an abstract method sound(). Create two derived classes Cow and Sheep that\n",
        "implement the sound() method."
      ],
      "metadata": {
        "id": "ec7fuvfmyL5M"
      }
    },
    {
      "cell_type": "code",
      "source": [
        "from abc import ABC, abstractmethod\n",
        "\n",
        "class Animal(ABC):\n",
        "    @abstractmethod\n",
        "    def sound(self):\n",
        "        pass\n",
        "\n",
        "class Cow(Animal):\n",
        "    def sound(self):\n",
        "        return \"Moo!\"\n",
        "\n",
        "class Sheep(Animal):\n",
        "    def sound(self):\n",
        "        return \"Baa!\""
      ],
      "metadata": {
        "id": "L5bXeCjByPsv"
      },
      "execution_count": null,
      "outputs": []
    },
    {
      "cell_type": "markdown",
      "source": [
        "Q17) Create a class Book with attributes title, author, and year_published. Add a method get_book_info() that\n",
        "returns a formatted string with the book's details."
      ],
      "metadata": {
        "id": "XBk37nmoyXOu"
      }
    },
    {
      "cell_type": "code",
      "source": [
        "class Book:\n",
        "    def __init__(self, title, author, year_published):\n",
        "        self.title = title\n",
        "        self.author = author\n",
        "        self.year_published = year_published\n",
        "\n",
        "    def get_book_info(self):\n",
        "        return f\"'{self.title}' by {self.author} ({self.year_published})\""
      ],
      "metadata": {
        "id": "W4aU9genycY5"
      },
      "execution_count": null,
      "outputs": []
    },
    {
      "cell_type": "markdown",
      "source": [
        "Q18)  Create a class House with attributes address and price. Create a derived class Mansion that adds an\n",
        "attribute number_of_rooms."
      ],
      "metadata": {
        "id": "npMbd_64yfRo"
      }
    },
    {
      "cell_type": "code",
      "source": [
        "class House:\n",
        "    def __init__(self, address, price):\n",
        "        self.address = address\n",
        "        self.price = price\n",
        "\n",
        "class Mansion(House):\n",
        "    def __init__(self, address, price, number_of_rooms):\n",
        "        super().__init__(address, price)\n",
        "        self.number_of_rooms = number_of_rooms"
      ],
      "metadata": {
        "id": "I4iBoG8qyjHS"
      },
      "execution_count": null,
      "outputs": []
    }
  ]
}