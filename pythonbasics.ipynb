{
  "nbformat": 4,
  "nbformat_minor": 0,
  "metadata": {
    "colab": {
      "provenance": []
    },
    "kernelspec": {
      "name": "python3",
      "display_name": "Python 3"
    },
    "language_info": {
      "name": "python"
    }
  },
  "cells": [
    {
      "cell_type": "markdown",
      "source": [
        "**Python Basics Questions**\n",
        "\n",
        "# Theory Questions\n",
        "\n",
        "Q1) What is Python, and why is it popular?\n",
        "- Python is an interpreted programming language used to build websites, apps, games, and much more.\n",
        "It is popular because it is easy to learn and write code.\n",
        "\n",
        "Q2) What is an interpreter in Python?\n",
        "- An interpreter is a tool that reads and runs our python code line by line. It helps us to catch errors quickly and makes testing easier.\n",
        "\n",
        "Q3) What are pre-defined keywords in Python?\n",
        "- Keywords are special reserved words in Python like if, else, for, True, etc.They have special meaning and cannot be used for anything else. Like we cant declare variable using them.\n",
        "\n",
        "Q4) Can keywords be used as variable names?\n",
        "- No, we can’t use keywords as variable names.\n",
        "Eg: We can’t write if = 10 because if is a keyword.\n",
        "\n",
        "Q5) What is mutability in Python?\n",
        "- Mutability means whether a value can be changed or not after it is created. If it can be changed it is mutable else immutable.\n",
        "\n",
        "Q6) Why are lists mutable, but tuples are immutable?\n",
        "- Lists are made to store changing data so we can add, remove or change items.In lists we can store any data types. Tuples are for fixed data so once made they can’t be changed.\n",
        "\n",
        "Q7) What is the difference between “==” and “is” operators in Python?\n",
        "- \"==\" checks if values are the same whereas \"is\" checks if they are the same object in memory.\n",
        "\n",
        "Q8) What are logical operators in Python?\n",
        "- Logical operators are used to combine conditions: Eg->\n",
        "and (both must be true)\n",
        "or (at least one must be true)\n",
        "not (reverses the condition)\n",
        "\n",
        "Q9) What is type casting in Python?\n",
        "- Type casting means changing one data type into another.\n",
        "Example: changing a string \"123\" into a number 123.\n",
        "\n",
        "Q10) What is the difference between implicit and explicit type casting?\n",
        "- Implicit casting: Python do it automatically.\n",
        "Example: x = 5 + 3.0 -> result is 8.0 (int is now changed to float).\n",
        "\n",
        "- Explicit casting: We tell Python to convert it.\n",
        "Example: int(\"10\") changes string to number.\n",
        "\n",
        "Q11) What is the purpose of conditional statements in Python\n",
        "- Conditional statements like if, elif, and else are used to make decisions in code.\n",
        "They let the program choose what to do based on conditions.\n",
        "\n",
        "Q12) How does the elif statement work?\n",
        "- elif means \"else if\".\n",
        "If the first if is false, it checks the elif.\n",
        "If that's true, it runs that block.\n",
        "\n",
        "Q13) What is the difference between for and while loops?\n",
        "- for loop is used when we know how many times to run.\n",
        "- while loop is used when we don’t know how many times, but want to run until a condition is true.\n",
        "\n",
        "Q14) Describe a scenario where a while loop is more suitable than a for loop.\n",
        "- Imagine we are asking a user to enter the correct password.\n",
        "We don’t know how many times they’ll try, so use a while loop:\n",
        "\n",
        "\n",
        "# Practical Questions\n",
        "\n",
        "Q1) Write a Python program to print \"Hello, World!?\n"
      ],
      "metadata": {
        "id": "xhgihKoC3dBI"
      }
    },
    {
      "cell_type": "code",
      "source": [
        "print(\"Hello World!\");"
      ],
      "metadata": {
        "id": "fxIV-lw96t74",
        "colab": {
          "base_uri": "https://localhost:8080/"
        },
        "outputId": "2fbffdc2-8d73-4bcb-e5ac-dd51f8e886ae"
      },
      "execution_count": null,
      "outputs": [
        {
          "output_type": "stream",
          "name": "stdout",
          "text": [
            "Hello World!\n"
          ]
        }
      ]
    },
    {
      "cell_type": "markdown",
      "source": [
        "Q2) Write a Python program that displays your name and age."
      ],
      "metadata": {
        "id": "Pvv2ueujtyGF"
      }
    },
    {
      "cell_type": "code",
      "source": [
        "_name = \"Vivek\";\n",
        "_age = 22;\n",
        "print(f\"My name is {_name} and age is {_age}\");"
      ],
      "metadata": {
        "colab": {
          "base_uri": "https://localhost:8080/"
        },
        "id": "ZMMJ2_zht6NZ",
        "outputId": "479d8f74-0e03-4ed8-f055-570b531f7fd9"
      },
      "execution_count": null,
      "outputs": [
        {
          "output_type": "stream",
          "name": "stdout",
          "text": [
            "My name is Vivek and age is 22\n"
          ]
        }
      ]
    },
    {
      "cell_type": "markdown",
      "source": [
        "Q3) Write code to print all the pre-defined keywords in Python using the keyword library."
      ],
      "metadata": {
        "id": "eTFUoCNMuawZ"
      }
    },
    {
      "cell_type": "code",
      "source": [
        "import keyword\n",
        "\n",
        "print(\"Python Keywords are:\")\n",
        "print(keyword.kwlist)"
      ],
      "metadata": {
        "colab": {
          "base_uri": "https://localhost:8080/"
        },
        "id": "ANEguexhuaYA",
        "outputId": "28015400-9b25-4dac-da11-05a2b81b416c"
      },
      "execution_count": null,
      "outputs": [
        {
          "output_type": "stream",
          "name": "stdout",
          "text": [
            "Python Keywords are:\n",
            "['False', 'None', 'True', 'and', 'as', 'assert', 'async', 'await', 'break', 'class', 'continue', 'def', 'del', 'elif', 'else', 'except', 'finally', 'for', 'from', 'global', 'if', 'import', 'in', 'is', 'lambda', 'nonlocal', 'not', 'or', 'pass', 'raise', 'return', 'try', 'while', 'with', 'yield']\n"
          ]
        }
      ]
    },
    {
      "cell_type": "markdown",
      "source": [
        "Q4) Write a program that checks if a given word is a Python keyword."
      ],
      "metadata": {
        "id": "AOf-MIAdv6B9"
      }
    },
    {
      "cell_type": "code",
      "source": [
        "import keyword\n",
        "key_input = input(\"Please enter a python keyword.\");\n",
        "if key_input in keyword.kwlist:\n",
        "  print(f\"Yes {key_input}, is a python keyword!\")\n",
        "else:\n",
        "  print(f\"No {key_input}, is not a pyhton keyword\");"
      ],
      "metadata": {
        "colab": {
          "base_uri": "https://localhost:8080/"
        },
        "id": "zsVWXE2IwB41",
        "outputId": "0d3db7a0-cbd8-444b-c306-cd50fc2d136c"
      },
      "execution_count": null,
      "outputs": [
        {
          "output_type": "stream",
          "name": "stdout",
          "text": [
            "Please enter a python keyword.None\n",
            "Yes None, is a python keyword!\n"
          ]
        }
      ]
    },
    {
      "cell_type": "markdown",
      "source": [
        " Q5) Create a list and tuple in Python, and demonstrate how attempting to change an element works differently for each."
      ],
      "metadata": {
        "id": "SAF0G8Xgwzc9"
      }
    },
    {
      "cell_type": "code",
      "source": [
        "# Creating a list (mutable)\n",
        "my_list = [10, 20, 30]\n",
        "print(\"Original list:\", my_list)\n",
        "\n",
        "# Modifying an element in the list\n",
        "my_list[1] = 200\n",
        "print(\"Modified list:\", my_list)\n",
        "\n",
        "# Creating a tuple (immutable)\n",
        "my_tuple = (10, 20, 30)\n",
        "print(\"Original tuple:\", my_tuple)\n",
        "\n",
        "# Trying to modify an element in the tuple\n",
        "try:\n",
        "    my_tuple[1] = 200\n",
        "except TypeError as e:\n",
        "    print(\"Error when modifying tuple:\", e)\n"
      ],
      "metadata": {
        "colab": {
          "base_uri": "https://localhost:8080/"
        },
        "id": "MB_yNTi_w8cU",
        "outputId": "9e2eb600-8da6-4733-cea9-f6da8675a0ed"
      },
      "execution_count": null,
      "outputs": [
        {
          "output_type": "stream",
          "name": "stdout",
          "text": [
            "Original list: [10, 20, 30]\n",
            "Modified list: [10, 200, 30]\n",
            "Original tuple: (10, 20, 30)\n",
            "Error when modifying tuple: 'tuple' object does not support item assignment\n"
          ]
        }
      ]
    },
    {
      "cell_type": "markdown",
      "source": [
        "Q6) Write a function to demonstrate the behavior of mutable and immutable arguments."
      ],
      "metadata": {
        "id": "BWPkxGwvxOTF"
      }
    },
    {
      "cell_type": "code",
      "source": [
        "def change_values(a, b):\n",
        "    a = a + 1         # int (immutable)\n",
        "    b.append(4)       # list (mutable)\n",
        "    print(\"Inside function:\", a, b)\n",
        "\n",
        "x = 10\n",
        "y = [1, 2, 3]\n",
        "change_values(x, y)\n",
        "print(\"Outside function:\", x, y)\n"
      ],
      "metadata": {
        "colab": {
          "base_uri": "https://localhost:8080/"
        },
        "id": "NaPIl5wkxe8J",
        "outputId": "115d6f27-62bf-4bc4-9698-84467bee433e"
      },
      "execution_count": null,
      "outputs": [
        {
          "output_type": "stream",
          "name": "stdout",
          "text": [
            "Inside function: 11 [1, 2, 3, 4]\n",
            "Outside function: 10 [1, 2, 3, 4]\n"
          ]
        }
      ]
    },
    {
      "cell_type": "markdown",
      "source": [
        "Q7)  Write a program that performs basic arithmetic operations on two user-input numbers."
      ],
      "metadata": {
        "id": "FoXHNCqLxsT4"
      }
    },
    {
      "cell_type": "code",
      "source": [
        "a = float(input(\"Enter first number: \"))\n",
        "b = float(input(\"Enter second number: \"))\n",
        "\n",
        "print(\"Sum:\", a + b)\n",
        "print(\"Difference:\", a - b)\n",
        "print(\"Product:\", a * b)\n",
        "print(\"Quotient:\", a / b)"
      ],
      "metadata": {
        "colab": {
          "base_uri": "https://localhost:8080/"
        },
        "id": "noPrL-VTxxGS",
        "outputId": "16116c48-2b74-49d8-c028-71179f71db70"
      },
      "execution_count": null,
      "outputs": [
        {
          "output_type": "stream",
          "name": "stdout",
          "text": [
            "Enter first number: 3.3\n",
            "Enter second number: 4.5\n",
            "Sum: 7.8\n",
            "Difference: -1.2000000000000002\n",
            "Product: 14.85\n",
            "Quotient: 0.7333333333333333\n"
          ]
        }
      ]
    },
    {
      "cell_type": "markdown",
      "source": [
        "Q8) Write a program to demonstrate the use of logical operators."
      ],
      "metadata": {
        "id": "hyxfOQ3nx74e"
      }
    },
    {
      "cell_type": "code",
      "source": [
        "x = 10\n",
        "y = 5\n",
        "\n",
        "print(x > 5 and y < 10)   # True\n",
        "print(x < 5 or y == 5)    # True\n",
        "print(not(x == 10))       # False"
      ],
      "metadata": {
        "colab": {
          "base_uri": "https://localhost:8080/"
        },
        "id": "6MQt03rcyAh7",
        "outputId": "f61eb0d9-51bb-4316-e432-3cda4deaf603"
      },
      "execution_count": null,
      "outputs": [
        {
          "output_type": "stream",
          "name": "stdout",
          "text": [
            "True\n",
            "True\n",
            "False\n"
          ]
        }
      ]
    },
    {
      "cell_type": "markdown",
      "source": [
        " Q9) Write a Python program to convert user input from string to integer, float, and boolean types."
      ],
      "metadata": {
        "id": "7KxYK67SzKg4"
      }
    },
    {
      "cell_type": "code",
      "source": [
        "user_input = input(\"Enter something: \")\n",
        "\n",
        "int_value = int(user_input)\n",
        "float_value = float(user_input)\n",
        "bool_value = bool(user_input)\n",
        "\n",
        "print(\"Integer:\", int_value)\n",
        "print(\"Float:\", float_value)\n",
        "print(\"Boolean:\", bool_value)"
      ],
      "metadata": {
        "colab": {
          "base_uri": "https://localhost:8080/"
        },
        "id": "5EUO6tQlzJed",
        "outputId": "21028e7b-4e2a-4999-8cd3-ebdedd944e94"
      },
      "execution_count": null,
      "outputs": [
        {
          "output_type": "stream",
          "name": "stdout",
          "text": [
            "Enter something: 22\n",
            "Integer: 22\n",
            "Float: 22.0\n",
            "Boolean: True\n"
          ]
        }
      ]
    },
    {
      "cell_type": "markdown",
      "source": [
        " Q10) Write code to demonstrate type casting with list elements."
      ],
      "metadata": {
        "id": "eMNN_rmKzZNO"
      }
    },
    {
      "cell_type": "code",
      "source": [
        "str_list = ['1', '2', '3']\n",
        "int_list = [];\n",
        "for i in str_list:\n",
        "  int_list.append(int(i));\n",
        "\n",
        "print(\"String list:\", str_list)\n",
        "print(\"Integer list:\", int_list)"
      ],
      "metadata": {
        "colab": {
          "base_uri": "https://localhost:8080/"
        },
        "id": "d-Tg27RCze6r",
        "outputId": "09bf7400-dee8-4e1a-aa90-52cc613bcfe3"
      },
      "execution_count": null,
      "outputs": [
        {
          "output_type": "stream",
          "name": "stdout",
          "text": [
            "String list: ['1', '2', '3']\n",
            "Integer list: [1, 2, 3]\n"
          ]
        }
      ]
    },
    {
      "cell_type": "markdown",
      "source": [
        "Q11) Write a program that checks if a number is positive, negative, or zero."
      ],
      "metadata": {
        "id": "VMXh1FD9z5z7"
      }
    },
    {
      "cell_type": "code",
      "source": [
        "num = float(input(\"Enter a number: \"))\n",
        "\n",
        "if num > 0:\n",
        "    print(\"Positive number\")\n",
        "elif num < 0:\n",
        "    print(\"Negative number\")\n",
        "else:\n",
        "    print(\"Zero\")"
      ],
      "metadata": {
        "colab": {
          "base_uri": "https://localhost:8080/"
        },
        "id": "mpByE_P8z-vC",
        "outputId": "fabc3f6a-e3ed-4776-bfd8-97ff2bd01c53"
      },
      "execution_count": null,
      "outputs": [
        {
          "output_type": "stream",
          "name": "stdout",
          "text": [
            "Enter a number: 3.34\n",
            "Positive number\n"
          ]
        }
      ]
    },
    {
      "cell_type": "markdown",
      "source": [
        "Q12)  Write a for loop to print numbers from 1 to 10."
      ],
      "metadata": {
        "id": "7kDwUbvTz99h"
      }
    },
    {
      "cell_type": "code",
      "source": [
        "for i in range(1,11):\n",
        "  print(i,\" \",end=\"\");"
      ],
      "metadata": {
        "colab": {
          "base_uri": "https://localhost:8080/"
        },
        "id": "TJyFLQlp0O5w",
        "outputId": "c64738b9-5dfc-49ba-9977-ff05a562be9a"
      },
      "execution_count": null,
      "outputs": [
        {
          "output_type": "stream",
          "name": "stdout",
          "text": [
            "1  2  3  4  5  6  7  8  9  10  "
          ]
        }
      ]
    },
    {
      "cell_type": "markdown",
      "source": [
        "Q13) Write a Python program to find the sum of all even numbers between 1 and 50."
      ],
      "metadata": {
        "id": "n7QM0rhN0dwS"
      }
    },
    {
      "cell_type": "code",
      "source": [
        "sum = 0;\n",
        "for i in range(1,51):\n",
        "  if i%2==0:\n",
        "    sum+=i;\n",
        "print(sum);"
      ],
      "metadata": {
        "colab": {
          "base_uri": "https://localhost:8080/"
        },
        "id": "Uens-xHQ0iAh",
        "outputId": "16ba9c11-3c47-46ff-918b-5f42365dd07f"
      },
      "execution_count": null,
      "outputs": [
        {
          "output_type": "stream",
          "name": "stdout",
          "text": [
            "650\n"
          ]
        }
      ]
    },
    {
      "cell_type": "markdown",
      "source": [
        "Q14) Write a program to reverse a string using a while loop."
      ],
      "metadata": {
        "id": "oPnvI12B0-45"
      }
    },
    {
      "cell_type": "code",
      "source": [
        "name = input(\"Enter any string bro!\");\n",
        "i = len(name)-1;\n",
        "rev_name = \"\";\n",
        "while i>=0:\n",
        "  rev_name+=name[i];\n",
        "  i-=1\n",
        "print(rev_name);"
      ],
      "metadata": {
        "colab": {
          "base_uri": "https://localhost:8080/"
        },
        "id": "_haJG7ut1DPM",
        "outputId": "620d6dd1-7192-4b90-9dd4-ba7c6100b6a4"
      },
      "execution_count": null,
      "outputs": [
        {
          "output_type": "stream",
          "name": "stdout",
          "text": [
            "Enter any string bro!vivek\n",
            "keviv\n"
          ]
        }
      ]
    },
    {
      "cell_type": "markdown",
      "source": [
        "Q15)  Write a Python program to calculate the factorial of a number provided by the user using a while loop."
      ],
      "metadata": {
        "id": "RcktkxWL1BI5"
      }
    },
    {
      "cell_type": "code",
      "source": [
        "num = int(input(\"Enter a number to calc its factorial \"));\n",
        "i = 1;\n",
        "fact_num = 1;\n",
        "while i<=num:\n",
        "  fact_num*=i;\n",
        "  i+=1;\n",
        "print(fact_num);"
      ],
      "metadata": {
        "colab": {
          "base_uri": "https://localhost:8080/"
        },
        "id": "a4F_Gpm31z14",
        "outputId": "8d2a1d34-d413-46fa-9d2f-86a0519ecd8e"
      },
      "execution_count": null,
      "outputs": [
        {
          "output_type": "stream",
          "name": "stdout",
          "text": [
            "Enter a number to calc its factorial 4\n",
            "24\n"
          ]
        }
      ]
    }
  ]
}